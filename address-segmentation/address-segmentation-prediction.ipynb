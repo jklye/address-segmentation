{
 "cells": [
  {
   "cell_type": "code",
   "execution_count": 4,
   "id": "5f8d811f",
   "metadata": {},
   "outputs": [],
   "source": [
    "import spacy\n",
    "from spacy.tokens import DocBin\n",
    "from spacy.util import filter_spans\n",
    "import pandas as pd\n",
    "import numpy as np\n",
    "import re\n",
    "import csv\n",
    "from fuzzywuzzy import fuzz\n",
    "\n",
    "from geopy.geocoders import Nominatim\n",
    "import pgeocode"
   ]
  },
  {
   "cell_type": "code",
   "execution_count": 47,
   "id": "e085e170",
   "metadata": {},
   "outputs": [],
   "source": [
    "def check_consecutive_digits(address):\n",
    "    pattern = r\"\\d{6}\"  # regex pattern for six consecutive digits\n",
    "    matches = re.findall(pattern, address)\n",
    "    return matches\n",
    "\n",
    "def validate_postal_code(postal_code):\n",
    "    geocoder = pgeocode.Nominatim('sg')\n",
    "    result = geocoder.query_postal_code(postal_code)\n",
    "    if not result.empty:\n",
    "        print(\"[pgeocode] Postal code: \" + str(postal_code) + \", Result: (\" + str(result.latitude) + \", \" + str(result.longitude) + \")\")\n",
    "        if result.country_code.upper() == 'SG' and check_location_in_sg(result.latitude, result.longitude):\n",
    "            return True  # Postal code is valid in Singapore\n",
    "    \n",
    "    else:\n",
    "        geolocator = Nominatim(user_agent=\"myGeocoder\")\n",
    "        location = geolocator.geocode(postal_code)\n",
    "        if location is not None:\n",
    "            print(\"[geopy___] Postal code: \" + str(postal_code) + \", Result: (\" + str(location.latitude) + \", \" + str(location.longitude) + \")\")\n",
    "            if check_location_in_sg(location.latitude, location.longitude):\n",
    "                return True\n",
    "        \n",
    "        print(\"[pgeocode] Postal code: \" + str(postal_code) + \", Result: \" + str(result))\n",
    "        return False  # Postal code is not valid in Singapore\n",
    "\n",
    "def check_location_in_sg(latitude, longitude):\n",
    "    '''\n",
    "    Checks if the input latitude and longitude lies within Singapore.\n",
    "\n",
    "    Args:\n",
    "        latitude (float): The user input latitude.\n",
    "        longitude (float): The user input longitude.\n",
    "\n",
    "    Returns:\n",
    "        bool: True if location lies within Singapore, False if otherwise.\n",
    "    '''\n",
    "    # latitude [1.15, 1.47]\n",
    "    # longitude [103.6, 104.1]\n",
    "\n",
    "    min_lat_sg = 1.15\n",
    "    max_lat_sg = 1.47\n",
    "    min_lng_sg = 103.6\n",
    "    max_lng_sg = 104.1\n",
    "\n",
    "    if (min_lat_sg <= latitude <= max_lat_sg) and (min_lng_sg <= longitude <= max_lng_sg):\n",
    "        return True\n",
    "    return False  \n",
    "    \n",
    "def validate_singapore_address(input_address):\n",
    "    consecutive_digit_matches = check_consecutive_digits(input_address)\n",
    "    if consecutive_digit_matches:\n",
    "        for match in consecutive_digit_matches:\n",
    "            if validate_postal_code(match):\n",
    "                return \"SINGAPORE\"  # At least one valid postal code found in Singapore\n",
    "    return \"FOREIGN\"  # No valid postal code found in Singapore\n"
   ]
  },
  {
   "cell_type": "code",
   "execution_count": null,
   "id": "eeb01401",
   "metadata": {},
   "outputs": [],
   "source": []
  },
  {
   "cell_type": "code",
   "execution_count": 6,
   "id": "53e95acc",
   "metadata": {},
   "outputs": [],
   "source": [
    "# Methods for SG address segmentation\n",
    "\n",
    "def predict_fields_sg(df):\n",
    "    block_list = []\n",
    "    street_list = []\n",
    "    building_list = []\n",
    "    floor_list = []\n",
    "    unit_list = []\n",
    "    country_list = []\n",
    "    postal_code_list = []\n",
    "\n",
    "    for index, address in enumerate(df['address']):\n",
    "\n",
    "        # note: ent.label is an integer identifier for entity while ent.label_ uses a string representation\n",
    "        entities = {ent.label_: ent.text for ent in nlp(str(address)).ents}\n",
    "\n",
    "        block_list.append(entities.get('BLOCK', ''))\n",
    "        street_list.append(entities.get('STREET', ''))\n",
    "        building_list.append(entities.get('BUILDING', ''))\n",
    "        floor_list.append(entities.get('FLOOR_NUM', ''))\n",
    "        unit_list.append(entities.get('UNIT_NUM', ''))\n",
    "        country_list.append(entities.get('COUNTRY', ''))\n",
    "        postal_code_list.append(entities.get('POSTAL_CODE', ''))\n",
    "\n",
    "        print(f\"Iteration: {index+1}/{len(df)}\")\n",
    "\n",
    "    tested_data = df.assign(\n",
    "        predicted_block = block_list,\n",
    "        predicted_street = street_list,\n",
    "        predicted_building = building_list,\n",
    "        predicted_floor_num = floor_list,\n",
    "        predicted_unit_num = unit_list,\n",
    "        predicted_country = country_list,\n",
    "        predicted_postal_code = postal_code_list\n",
    "    )\n",
    "    \n",
    "    tested_data = tested_data.replace(r'^\\s*$', np.nan, regex=True)\n",
    "    return tested_data"
   ]
  },
  {
   "cell_type": "code",
   "execution_count": 7,
   "id": "14e0e858",
   "metadata": {},
   "outputs": [],
   "source": [
    "# Methods for foreign address segmentation\n",
    "\n",
    "def predict_fields_foreign(df):\n",
    "    street_list = []\n",
    "    zipcode_list = []\n",
    "    city_list = []\n",
    "    province_list = []\n",
    "    country_list = []\n",
    "\n",
    "    for index, address in enumerate(df['address']):\n",
    "\n",
    "        # note: ent.label is an integer identifier for entity while ent.label_ uses a string representation\n",
    "        entities = {ent.label_: ent.text for ent in nlp(str(address)).ents}\n",
    "\n",
    "        street_list.append(entities.get('STREET', ''))\n",
    "        zipcode_list.append(entities.get('ZIPCODE', ''))\n",
    "        city_list.append(entities.get('CITY', ''))\n",
    "        province_list.append(entities.get('PROVINCE', ''))\n",
    "        country_list.append(entities.get('COUNTRY', ''))\n",
    "\n",
    "        print(f\"Iteration: {index+1}/{len(df)}\")\n",
    "\n",
    "    tested_data = df.assign(\n",
    "        predicted_street = street_list,\n",
    "        predicted_zipcode = zipcode_list,\n",
    "        predicted_city = city_list,\n",
    "        predicted_province = province_list,\n",
    "        predicted_country = country_list\n",
    "    )\n",
    "    \n",
    "    tested_data = tested_data.replace(r'^\\s*$', np.nan, regex=True)\n",
    "    return tested_data"
   ]
  },
  {
   "cell_type": "code",
   "execution_count": null,
   "id": "a89d0ac8",
   "metadata": {},
   "outputs": [],
   "source": []
  },
  {
   "cell_type": "markdown",
   "id": "9a68c299",
   "metadata": {},
   "source": [
    "### Input test addresses"
   ]
  },
  {
   "cell_type": "code",
   "execution_count": 8,
   "id": "b5e4bddc",
   "metadata": {},
   "outputs": [
    {
     "name": "stdout",
     "output_type": "stream",
     "text": [
      "Loading models...\n",
      "SINGAPORE\n",
      "FOREIGN\n",
      "DEFAULT\n",
      "Models loaded!\n"
     ]
    }
   ],
   "source": [
    "model_mapping = {\n",
    "    'SINGAPORE': './ner-sg/output/models/model-best',\n",
    "    'FOREIGN': './ner-foreign/output/models/model-best',\n",
    "    'DEFAULT': './ner-sg/output/models/model-best'  # TODO: Add default model path\n",
    "}\n",
    "\n",
    "# Load all models\n",
    "print(\"Loading models...\")\n",
    "loaded_models = {}\n",
    "for country, model_directory in model_mapping.items():\n",
    "    loaded_models[country] = spacy.load(model_directory)\n",
    "\n",
    "for model in loaded_models:\n",
    "    print(model)\n",
    "\n",
    "print(\"Models loaded!\")"
   ]
  },
  {
   "cell_type": "code",
   "execution_count": 49,
   "id": "e4a7f72a",
   "metadata": {},
   "outputs": [],
   "source": [
    "# TEST DATA\n",
    "\n",
    "address_list = [\n",
    "    \"CIKARANG TIMUR JATIREJA NO. 425 BEKASI KABUPATEN JAWA BARAT 17530 INDONESIA\",\n",
    "    \"NO. 44 JALAN DESA MELUR 56000 CHERAS KUALA LUMPUR MALAYSIA\",\n",
    "    \"9 TEMASEK BOULEVARD #07-01 SUNTEC TOWER 2 SINGAPORE 038989\",\n",
    "    \"9 TEMASEK BOULEVARD #07-01 SUNTEC TOWER 2 S038989\",\n",
    "    \"9 TEMASEK BOULEVARD #07-01 SUNTEC TOWER 2 S(038989)\",\n",
    "    \"9 TEMASEK BOULEVARD #07-01 SUNTEC TOWER 2 038989\"\n",
    "]"
   ]
  },
  {
   "cell_type": "code",
   "execution_count": 50,
   "id": "7a59839c",
   "metadata": {},
   "outputs": [
    {
     "name": "stdout",
     "output_type": "stream",
     "text": [
      "Address string: CIKARANG TIMUR JATIREJA NO. 425 BEKASI KABUPATEN JAWA BARAT 17530 INDONESIA\n",
      "Identified country: FOREIGN\n",
      "Parsed address: [('CIKARANG TIMUR JATIREJA NO. 425', 'STREET'), ('BEKASI KABUPATEN', 'CITY'), ('JAWA BARAT', 'PROVINCE'), ('17530', 'ZIPCODE'), ('INDONESIA', 'COUNTRY')]\n",
      "--------------------------\n",
      "Address string: NO. 44 JALAN DESA MELUR 56000 CHERAS KUALA LUMPUR MALAYSIA\n",
      "Identified country: FOREIGN\n",
      "Parsed address: [('NO. 44 JALAN DESA MELUR', 'STREET'), ('56000', 'ZIPCODE'), ('CHERAS', 'CITY'), ('KUALA LUMPUR', 'PROVINCE'), ('MALAYSIA', 'COUNTRY')]\n",
      "--------------------------\n",
      "[pgeocode] Postal code: 038989, Result: (1.2956, 103.859)\n",
      "Address string: 9 TEMASEK BOULEVARD #07-01 SUNTEC TOWER 2 SINGAPORE 038989\n",
      "Identified country: SINGAPORE\n",
      "Parsed address: [('9', 'BLOCK'), ('TEMASEK BOULEVARD', 'BUILDING'), ('07', 'FLOOR_NUM'), ('01', 'UNIT_NUM'), ('SUNTEC TOWER 2', 'BUILDING'), ('SINGAPORE', 'COUNTRY'), ('038989', 'POSTAL_CODE')]\n",
      "--------------------------\n",
      "[pgeocode] Postal code: 038989, Result: (1.2956, 103.859)\n",
      "Address string: 9 TEMASEK BOULEVARD #07-01 SUNTEC TOWER 2 S038989\n",
      "Identified country: SINGAPORE\n",
      "Parsed address: [('9', 'BLOCK'), ('TEMASEK BOULEVARD', 'BUILDING'), ('07', 'FLOOR_NUM'), ('01', 'UNIT_NUM'), ('SUNTEC TOWER 2', 'BUILDING')]\n",
      "--------------------------\n",
      "[pgeocode] Postal code: 038989, Result: (1.2956, 103.859)\n",
      "Address string: 9 TEMASEK BOULEVARD #07-01 SUNTEC TOWER 2 S(038989)\n",
      "Identified country: SINGAPORE\n",
      "Parsed address: [('9', 'BLOCK'), ('TEMASEK BOULEVARD', 'BUILDING'), ('07', 'FLOOR_NUM'), ('01', 'UNIT_NUM'), ('SUNTEC TOWER 2', 'BUILDING')]\n",
      "--------------------------\n",
      "[pgeocode] Postal code: 038989, Result: (1.2956, 103.859)\n",
      "Address string: 9 TEMASEK BOULEVARD #07-01 SUNTEC TOWER 2 038989\n",
      "Identified country: SINGAPORE\n",
      "Parsed address: [('9', 'BLOCK'), ('TEMASEK BOULEVARD', 'BUILDING'), ('07', 'FLOOR_NUM'), ('01', 'UNIT_NUM'), ('SUNTEC TOWER 2', 'BUILDING')]\n",
      "--------------------------\n"
     ]
    }
   ],
   "source": [
    "for address in address_list:\n",
    "    \n",
    "    cleaned_address = address.replace(',', '').strip()\n",
    "    \n",
    "    identified_country = validate_singapore_address(cleaned_address)\n",
    "    \n",
    "    # Select the corresponding model or use the default model\n",
    "    nlp = loaded_models.get(identified_country, loaded_models['DEFAULT'])\n",
    "\n",
    "    doc = nlp(cleaned_address)\n",
    "\n",
    "    entities = [(ent.text, ent.label_) for ent in doc.ents]\n",
    "\n",
    "#     formatted_entities = ', '.join(f'({text.replace(\",\", \"\").strip()}, {label})' for text, label in entities if text)\n",
    "    \n",
    "    print(\"Address string:\", cleaned_address)\n",
    "    print(\"Identified country:\", identified_country)\n",
    "    print(\"Parsed address:\", str(entities))\n",
    "    print(\"--------------------------\")"
   ]
  },
  {
   "cell_type": "code",
   "execution_count": null,
   "id": "ba8e89ac",
   "metadata": {},
   "outputs": [],
   "source": []
  },
  {
   "cell_type": "markdown",
   "id": "a6fd45ff",
   "metadata": {},
   "source": [
    "### Testing with data in csv files"
   ]
  },
  {
   "cell_type": "code",
   "execution_count": 56,
   "id": "213d98d5",
   "metadata": {},
   "outputs": [
    {
     "data": {
      "text/html": [
       "<div>\n",
       "<style scoped>\n",
       "    .dataframe tbody tr th:only-of-type {\n",
       "        vertical-align: middle;\n",
       "    }\n",
       "\n",
       "    .dataframe tbody tr th {\n",
       "        vertical-align: top;\n",
       "    }\n",
       "\n",
       "    .dataframe thead th {\n",
       "        text-align: right;\n",
       "    }\n",
       "</style>\n",
       "<table border=\"1\" class=\"dataframe\">\n",
       "  <thead>\n",
       "    <tr style=\"text-align: right;\">\n",
       "      <th></th>\n",
       "      <th>address</th>\n",
       "    </tr>\n",
       "  </thead>\n",
       "  <tbody>\n",
       "    <tr>\n",
       "      <th>0</th>\n",
       "      <td>CIKARANG TIMUR JATIREJA NO. 425 BEKASI KABUPAT...</td>\n",
       "    </tr>\n",
       "    <tr>\n",
       "      <th>1</th>\n",
       "      <td>NO. 44 JALAN DESA MELUR 56000 CHERAS KUALA LUM...</td>\n",
       "    </tr>\n",
       "    <tr>\n",
       "      <th>2</th>\n",
       "      <td>9 TEMASEK BOULEVARD #07-01 SUNTEC TOWER 2 SING...</td>\n",
       "    </tr>\n",
       "  </tbody>\n",
       "</table>\n",
       "</div>"
      ],
      "text/plain": [
       "                                             address\n",
       "0  CIKARANG TIMUR JATIREJA NO. 425 BEKASI KABUPAT...\n",
       "1  NO. 44 JALAN DESA MELUR 56000 CHERAS KUALA LUM...\n",
       "2  9 TEMASEK BOULEVARD #07-01 SUNTEC TOWER 2 SING..."
      ]
     },
     "execution_count": 56,
     "metadata": {},
     "output_type": "execute_result"
    }
   ],
   "source": [
    "# TEST DATA\n",
    "test_data = pd.read_csv(\"./test-data/test_data.csv\")\n",
    "test_data"
   ]
  },
  {
   "cell_type": "code",
   "execution_count": 57,
   "id": "e13c53ed",
   "metadata": {},
   "outputs": [
    {
     "name": "stdout",
     "output_type": "stream",
     "text": [
      "Loading models...\n",
      "SINGAPORE\n",
      "FOREIGN\n",
      "DEFAULT\n",
      "Models loaded!\n"
     ]
    }
   ],
   "source": [
    "model_mapping = {\n",
    "    'SINGAPORE': './ner-sg/output/models/model-best',\n",
    "    'FOREIGN': './ner-foreign/output/models/model-best',\n",
    "    'DEFAULT': './ner-sg/output/models/model-best'  # TODO: Add default model path\n",
    "}\n",
    "\n",
    "# Load all models\n",
    "print(\"Loading models...\")\n",
    "loaded_models = {}\n",
    "for country, model_directory in model_mapping.items():\n",
    "    loaded_models[country] = spacy.load(model_directory)\n",
    "\n",
    "for model in loaded_models:\n",
    "    print(model)\n",
    "    \n",
    "print(\"Models loaded!\")"
   ]
  },
  {
   "cell_type": "code",
   "execution_count": 58,
   "id": "346992b7",
   "metadata": {},
   "outputs": [],
   "source": [
    "address_components = ['block', 'street', 'building', 'floor_num', 'unit_num', 'postal_code', 'zipcode', 'city', 'province', 'country']\n",
    "component_lists = {component: [] for component in address_components}"
   ]
  },
  {
   "cell_type": "code",
   "execution_count": 26,
   "id": "534caffb",
   "metadata": {},
   "outputs": [
    {
     "ename": "NameError",
     "evalue": "name 'test_data' is not defined",
     "output_type": "error",
     "traceback": [
      "\u001b[1;31m---------------------------------------------------------------------------\u001b[0m",
      "\u001b[1;31mNameError\u001b[0m                                 Traceback (most recent call last)",
      "Cell \u001b[1;32mIn [26], line 1\u001b[0m\n\u001b[1;32m----> 1\u001b[0m \u001b[38;5;28;01mfor\u001b[39;00m index, row \u001b[38;5;129;01min\u001b[39;00m \u001b[43mtest_data\u001b[49m\u001b[38;5;241m.\u001b[39miterrows():\n\u001b[0;32m      2\u001b[0m     cleaned_address \u001b[38;5;241m=\u001b[39m row[\u001b[38;5;124m'\u001b[39m\u001b[38;5;124maddress\u001b[39m\u001b[38;5;124m'\u001b[39m]\u001b[38;5;241m.\u001b[39mreplace(\u001b[38;5;124m'\u001b[39m\u001b[38;5;124m,\u001b[39m\u001b[38;5;124m'\u001b[39m, \u001b[38;5;124m'\u001b[39m\u001b[38;5;124m'\u001b[39m)\u001b[38;5;241m.\u001b[39mstrip()\n\u001b[0;32m      3\u001b[0m     identified_country \u001b[38;5;241m=\u001b[39m validate_singapore_address(cleaned_address)\n",
      "\u001b[1;31mNameError\u001b[0m: name 'test_data' is not defined"
     ]
    }
   ],
   "source": [
    "for index, row in test_data.iterrows():\n",
    "    cleaned_address = row['address'].replace(',', '').strip()\n",
    "    identified_country = validate_singapore_address(cleaned_address)\n",
    "    \n",
    "    nlp = loaded_models.get(identified_country, loaded_models['DEFAULT'])\n",
    "\n",
    "    doc = nlp(cleaned_address)\n",
    "\n",
    "    entities = {ent.label_: ent.text for ent in doc.ents}\n",
    "\n",
    "    for component in address_components:\n",
    "        try:\n",
    "            ent = entities.get(component.upper(), '')\n",
    "        except:\n",
    "            ent = np.nan\n",
    "        component_lists[component].append(ent)\n",
    "\n",
    "    print(f\"Iteration: {index+1}/{len(test_data)}\")\n",
    "    print(\"Address string:\", cleaned_address)\n",
    "    print(\"Identified country:\", identified_country)\n",
    "    print(\"Parsed address:\", str(entities))\n",
    "    print(\"--------------------------\")\n",
    "\n",
    "tested_data = pd.DataFrame(component_lists)\n",
    "tested_data = tested_data.replace(r'^\\s*$', np.nan, regex=True)\n",
    "tested_data['postcode'] = tested_data['postal_code'].fillna(tested_data['zipcode'])\n",
    "tested_data = tested_data.drop(['zipcode', 'postal_code'], axis=1)\n",
    "tested_data"
   ]
  },
  {
   "cell_type": "code",
   "execution_count": 60,
   "id": "cefdc291",
   "metadata": {},
   "outputs": [],
   "source": [
    "tested_data.to_csv(\"./test-data/tested_data.csv\")"
   ]
  },
  {
   "cell_type": "code",
   "execution_count": null,
   "id": "43a1a47c",
   "metadata": {},
   "outputs": [],
   "source": []
  },
  {
   "cell_type": "code",
   "execution_count": null,
   "id": "abc6b4d1",
   "metadata": {},
   "outputs": [],
   "source": []
  }
 ],
 "metadata": {
  "kernelspec": {
   "display_name": "Python 3 (ipykernel)",
   "language": "python",
   "name": "python3"
  },
  "language_info": {
   "codemirror_mode": {
    "name": "ipython",
    "version": 3
   },
   "file_extension": ".py",
   "mimetype": "text/x-python",
   "name": "python",
   "nbconvert_exporter": "python",
   "pygments_lexer": "ipython3",
   "version": "3.9.7"
  }
 },
 "nbformat": 4,
 "nbformat_minor": 5
}
