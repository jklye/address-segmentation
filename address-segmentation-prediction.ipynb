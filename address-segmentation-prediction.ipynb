{
 "cells": [
  {
   "cell_type": "code",
   "execution_count": 1,
   "id": "5f8d811f",
   "metadata": {},
   "outputs": [],
   "source": [
    "import spacy\n",
    "from spacy.tokens import DocBin\n",
    "from spacy.util import filter_spans\n",
    "import pandas as pd\n",
    "import numpy as np\n",
    "import re\n",
    "import csv\n",
    "from fuzzywuzzy import fuzz"
   ]
  },
  {
   "cell_type": "code",
   "execution_count": 2,
   "id": "b0f54000",
   "metadata": {},
   "outputs": [],
   "source": [
    "# validate if address given is an address in sg\n",
    "# consider postal code pattern - 6 digits?\n",
    "\n",
    "def validate_singapore_address(address):\n",
    "    regex_pattern = r\"\\b(SINGAPORE|SGP|SG)\\b\"\n",
    "\n",
    "    if re.search(regex_pattern, address, re.IGNORECASE):\n",
    "        return \"SINGAPORE\"\n",
    "\n",
    "    return \"FOREIGN\""
   ]
  },
  {
   "cell_type": "code",
   "execution_count": 4,
   "id": "53e95acc",
   "metadata": {},
   "outputs": [],
   "source": [
    "# Methods for SG address segmentation\n",
    "\n",
    "def predict_fields_sg(df):\n",
    "    block_list = []\n",
    "    street_list = []\n",
    "    building_list = []\n",
    "    floor_list = []\n",
    "    unit_list = []\n",
    "    country_list = []\n",
    "    postal_code_list = []\n",
    "\n",
    "    for index, address in enumerate(df['address']):\n",
    "\n",
    "        # note: ent.label is an integer identifier for entity while ent.label_ uses a string representation\n",
    "        entities = {ent.label_: ent.text for ent in nlp(str(address)).ents}\n",
    "\n",
    "        block_list.append(entities.get('BLOCK', ''))\n",
    "        street_list.append(entities.get('STREET', ''))\n",
    "        building_list.append(entities.get('BUILDING', ''))\n",
    "        floor_list.append(entities.get('FLOOR_NUM', ''))\n",
    "        unit_list.append(entities.get('UNIT_NUM', ''))\n",
    "        country_list.append(entities.get('COUNTRY', ''))\n",
    "        postal_code_list.append(entities.get('POSTAL_CODE', ''))\n",
    "\n",
    "        print(f\"Iteration: {index+1}/{len(df)}\")\n",
    "\n",
    "    tested_data = df.assign(\n",
    "        predicted_block = block_list,\n",
    "        predicted_street = street_list,\n",
    "        predicted_building = building_list,\n",
    "        predicted_floor_num = floor_list,\n",
    "        predicted_unit_num = unit_list,\n",
    "        predicted_country = country_list,\n",
    "        predicted_postal_code = postal_code_list\n",
    "    )\n",
    "    \n",
    "    tested_data = tested_data.replace(r'^\\s*$', np.nan, regex=True)\n",
    "    return tested_data"
   ]
  },
  {
   "cell_type": "code",
   "execution_count": 5,
   "id": "14e0e858",
   "metadata": {},
   "outputs": [],
   "source": [
    "# Methods for foreign address segmentation\n",
    "\n",
    "def predict_fields_foreign(df):\n",
    "    street_list = []\n",
    "    zipcode_list = []\n",
    "    city_list = []\n",
    "    province_list = []\n",
    "    country_list = []\n",
    "\n",
    "    for index, address in enumerate(df['address']):\n",
    "\n",
    "        # note: ent.label is an integer identifier for entity while ent.label_ uses a string representation\n",
    "        entities = {ent.label_: ent.text for ent in nlp(str(address)).ents}\n",
    "\n",
    "        street_list.append(entities.get('STREET', ''))\n",
    "        zipcode_list.append(entities.get('ZIPCODE', ''))\n",
    "        city_list.append(entities.get('CITY', ''))\n",
    "        province_list.append(entities.get('PROVINCE', ''))\n",
    "        country_list.append(entities.get('COUNTRY', ''))\n",
    "\n",
    "        print(f\"Iteration: {index+1}/{len(df)}\")\n",
    "\n",
    "    tested_data = df.assign(\n",
    "        predicted_street = street_list,\n",
    "        predicted_zipcode = zipcode_list,\n",
    "        predicted_city = city_list,\n",
    "        predicted_province = province_list,\n",
    "        predicted_country = country_list\n",
    "    )\n",
    "    \n",
    "    tested_data = tested_data.replace(r'^\\s*$', np.nan, regex=True)\n",
    "    return tested_data"
   ]
  },
  {
   "cell_type": "code",
   "execution_count": null,
   "id": "a89d0ac8",
   "metadata": {},
   "outputs": [],
   "source": []
  },
  {
   "cell_type": "markdown",
   "id": "9a68c299",
   "metadata": {},
   "source": [
    "### Input test addresses"
   ]
  },
  {
   "cell_type": "code",
   "execution_count": 13,
   "id": "e4a7f72a",
   "metadata": {},
   "outputs": [],
   "source": [
    "# TEST DATA\n",
    "\n",
    "address_list = [\n",
    "    \"CIKARANG TIMUR JATIREJA NO. 425 BEKASI KABUPATEN JAWA BARAT 17530 INDONESIA\",\n",
    "    \"NO. 44 JALAN DESA MELUR 56000 CHERAS KUALA LUMPUR MALAYSIA\",\n",
    "    \"9 TEMASEK BOULEVARD #07-01 SUNTEC TOWER 2 SINGAPORE 038989\"\n",
    "]"
   ]
  },
  {
   "cell_type": "code",
   "execution_count": 20,
   "id": "b5e4bddc",
   "metadata": {},
   "outputs": [
    {
     "name": "stdout",
     "output_type": "stream",
     "text": [
      "Loading models...\n",
      "SINGAPORE\n",
      "FOREIGN\n",
      "DEFAULT\n",
      "Models loaded!\n"
     ]
    }
   ],
   "source": [
    "model_mapping = {\n",
    "    'SINGAPORE': './ner-sg/output/models/model-best',\n",
    "    'FOREIGN': './ner-foreign/output/models/model-best',\n",
    "    'DEFAULT': './ner-sg/output/models/model-best'  # TODO: Add default model path\n",
    "}\n",
    "\n",
    "# Load all models\n",
    "print(\"Loading models...\")\n",
    "loaded_models = {}\n",
    "for country, model_directory in model_mapping.items():\n",
    "    loaded_models[country] = spacy.load(model_directory)\n",
    "\n",
    "for model in loaded_models:\n",
    "    print(model)\n",
    "\n",
    "print(\"Models loaded!\")"
   ]
  },
  {
   "cell_type": "code",
   "execution_count": 14,
   "id": "7a59839c",
   "metadata": {},
   "outputs": [
    {
     "name": "stdout",
     "output_type": "stream",
     "text": [
      "Address string: CIKARANG TIMUR JATIREJA NO. 425 BEKASI KABUPATEN JAWA BARAT 17530 INDONESIA\n",
      "Identified country: FOREIGN\n",
      "Parsed address: [('CIKARANG TIMUR JATIREJA NO. 425', 'STREET'), ('BEKASI KABUPATEN', 'CITY'), ('JAWA BARAT', 'PROVINCE'), ('17530', 'ZIPCODE'), ('INDONESIA', 'COUNTRY')]\n",
      "--------------------------\n",
      "Address string: NO. 44 JALAN DESA MELUR 56000 CHERAS KUALA LUMPUR MALAYSIA\n",
      "Identified country: FOREIGN\n",
      "Parsed address: [('NO. 44 JALAN DESA MELUR', 'STREET'), ('56000', 'ZIPCODE'), ('CHERAS', 'CITY'), ('KUALA LUMPUR', 'PROVINCE'), ('MALAYSIA', 'COUNTRY')]\n",
      "--------------------------\n",
      "Address string: 9 TEMASEK BOULEVARD #07-01 SUNTEC TOWER 2 SINGAPORE 038989\n",
      "Identified country: SINGAPORE\n",
      "Parsed address: [('9', 'BLOCK'), ('TEMASEK BOULEVARD', 'STREET'), ('07', 'FLOOR_NUM'), ('01', 'UNIT_NUM'), ('SUNTEC TOWER 2', 'BUILDING'), ('SINGAPORE', 'COUNTRY'), ('038989', 'POSTAL_CODE')]\n",
      "--------------------------\n"
     ]
    }
   ],
   "source": [
    "for address in address_list:\n",
    "    cleaned_address = address.replace(',', '').strip()\n",
    "    identified_country = validate_singapore_address(cleaned_address)\n",
    "    \n",
    "    # Select the corresponding model or use the default model\n",
    "    nlp = loaded_models.get(identified_country, loaded_models['DEFAULT'])\n",
    "\n",
    "    doc = nlp(cleaned_address)\n",
    "\n",
    "    entities = [(ent.text, ent.label_) for ent in doc.ents]\n",
    "\n",
    "#     formatted_entities = ', '.join(f'({text.replace(\",\", \"\").strip()}, {label})' for text, label in entities if text)\n",
    "    \n",
    "    print(\"Address string:\", cleaned_address)\n",
    "    print(\"Identified country:\", identified_country)\n",
    "    print(\"Parsed address:\", str(entities))\n",
    "    print(\"--------------------------\")"
   ]
  },
  {
   "cell_type": "code",
   "execution_count": null,
   "id": "ba8e89ac",
   "metadata": {},
   "outputs": [],
   "source": []
  },
  {
   "cell_type": "markdown",
   "id": "a6fd45ff",
   "metadata": {},
   "source": [
    "### Testing with data in csv files"
   ]
  },
  {
   "cell_type": "code",
   "execution_count": 56,
   "id": "213d98d5",
   "metadata": {},
   "outputs": [
    {
     "data": {
      "text/html": [
       "<div>\n",
       "<style scoped>\n",
       "    .dataframe tbody tr th:only-of-type {\n",
       "        vertical-align: middle;\n",
       "    }\n",
       "\n",
       "    .dataframe tbody tr th {\n",
       "        vertical-align: top;\n",
       "    }\n",
       "\n",
       "    .dataframe thead th {\n",
       "        text-align: right;\n",
       "    }\n",
       "</style>\n",
       "<table border=\"1\" class=\"dataframe\">\n",
       "  <thead>\n",
       "    <tr style=\"text-align: right;\">\n",
       "      <th></th>\n",
       "      <th>address</th>\n",
       "    </tr>\n",
       "  </thead>\n",
       "  <tbody>\n",
       "    <tr>\n",
       "      <th>0</th>\n",
       "      <td>CIKARANG TIMUR JATIREJA NO. 425 BEKASI KABUPAT...</td>\n",
       "    </tr>\n",
       "    <tr>\n",
       "      <th>1</th>\n",
       "      <td>NO. 44 JALAN DESA MELUR 56000 CHERAS KUALA LUM...</td>\n",
       "    </tr>\n",
       "    <tr>\n",
       "      <th>2</th>\n",
       "      <td>9 TEMASEK BOULEVARD #07-01 SUNTEC TOWER 2 SING...</td>\n",
       "    </tr>\n",
       "  </tbody>\n",
       "</table>\n",
       "</div>"
      ],
      "text/plain": [
       "                                             address\n",
       "0  CIKARANG TIMUR JATIREJA NO. 425 BEKASI KABUPAT...\n",
       "1  NO. 44 JALAN DESA MELUR 56000 CHERAS KUALA LUM...\n",
       "2  9 TEMASEK BOULEVARD #07-01 SUNTEC TOWER 2 SING..."
      ]
     },
     "execution_count": 56,
     "metadata": {},
     "output_type": "execute_result"
    }
   ],
   "source": [
    "# TEST DATA\n",
    "test_data = pd.read_csv(\"./test-data/test_data.csv\")\n",
    "test_data"
   ]
  },
  {
   "cell_type": "code",
   "execution_count": 57,
   "id": "e13c53ed",
   "metadata": {},
   "outputs": [
    {
     "name": "stdout",
     "output_type": "stream",
     "text": [
      "Loading models...\n",
      "SINGAPORE\n",
      "FOREIGN\n",
      "DEFAULT\n",
      "Models loaded!\n"
     ]
    }
   ],
   "source": [
    "model_mapping = {\n",
    "    'SINGAPORE': './ner-sg/output/models/model-best',\n",
    "    'FOREIGN': './ner-foreign/output/models/model-best',\n",
    "    'DEFAULT': './ner-sg/output/models/model-best'  # TODO: Add default model path\n",
    "}\n",
    "\n",
    "# Load all models\n",
    "print(\"Loading models...\")\n",
    "loaded_models = {}\n",
    "for country, model_directory in model_mapping.items():\n",
    "    loaded_models[country] = spacy.load(model_directory)\n",
    "\n",
    "for model in loaded_models:\n",
    "    print(model)\n",
    "    \n",
    "print(\"Models loaded!\")"
   ]
  },
  {
   "cell_type": "code",
   "execution_count": 58,
   "id": "346992b7",
   "metadata": {},
   "outputs": [],
   "source": [
    "address_components = ['block', 'street', 'building', 'floor_num', 'unit_num', 'postal_code', 'zipcode', 'city', 'province', 'country']\n",
    "component_lists = {component: [] for component in address_components}"
   ]
  },
  {
   "cell_type": "code",
   "execution_count": 59,
   "id": "534caffb",
   "metadata": {},
   "outputs": [
    {
     "name": "stdout",
     "output_type": "stream",
     "text": [
      "Iteration: 1/3\n",
      "Address string: CIKARANG TIMUR JATIREJA NO. 425 BEKASI KABUPATEN JAWA BARAT 17530 INDONESIA\n",
      "Identified country: FOREIGN\n",
      "Parsed address: {'STREET': 'CIKARANG TIMUR JATIREJA NO. 425', 'CITY': 'BEKASI KABUPATEN', 'PROVINCE': 'JAWA BARAT', 'ZIPCODE': '17530', 'COUNTRY': 'INDONESIA'}\n",
      "--------------------------\n",
      "Iteration: 2/3\n",
      "Address string: NO. 44 JALAN DESA MELUR 56000 CHERAS KUALA LUMPUR MALAYSIA\n",
      "Identified country: FOREIGN\n",
      "Parsed address: {'STREET': 'NO. 44 JALAN DESA MELUR', 'ZIPCODE': '56000', 'CITY': 'CHERAS', 'PROVINCE': 'KUALA LUMPUR', 'COUNTRY': 'MALAYSIA'}\n",
      "--------------------------\n",
      "Iteration: 3/3\n",
      "Address string: 9 TEMASEK BOULEVARD #07-01 SUNTEC TOWER 2 SINGAPORE 038989\n",
      "Identified country: SINGAPORE\n",
      "Parsed address: {'BLOCK': '9', 'STREET': 'TEMASEK BOULEVARD', 'FLOOR_NUM': '07', 'UNIT_NUM': '01', 'BUILDING': 'SUNTEC TOWER 2', 'COUNTRY': 'SINGAPORE', 'POSTAL_CODE': '038989'}\n",
      "--------------------------\n"
     ]
    },
    {
     "data": {
      "text/html": [
       "<div>\n",
       "<style scoped>\n",
       "    .dataframe tbody tr th:only-of-type {\n",
       "        vertical-align: middle;\n",
       "    }\n",
       "\n",
       "    .dataframe tbody tr th {\n",
       "        vertical-align: top;\n",
       "    }\n",
       "\n",
       "    .dataframe thead th {\n",
       "        text-align: right;\n",
       "    }\n",
       "</style>\n",
       "<table border=\"1\" class=\"dataframe\">\n",
       "  <thead>\n",
       "    <tr style=\"text-align: right;\">\n",
       "      <th></th>\n",
       "      <th>block</th>\n",
       "      <th>street</th>\n",
       "      <th>building</th>\n",
       "      <th>floor_num</th>\n",
       "      <th>unit_num</th>\n",
       "      <th>city</th>\n",
       "      <th>province</th>\n",
       "      <th>country</th>\n",
       "      <th>postcode</th>\n",
       "    </tr>\n",
       "  </thead>\n",
       "  <tbody>\n",
       "    <tr>\n",
       "      <th>0</th>\n",
       "      <td>NaN</td>\n",
       "      <td>CIKARANG TIMUR JATIREJA NO. 425</td>\n",
       "      <td>NaN</td>\n",
       "      <td>NaN</td>\n",
       "      <td>NaN</td>\n",
       "      <td>BEKASI KABUPATEN</td>\n",
       "      <td>JAWA BARAT</td>\n",
       "      <td>INDONESIA</td>\n",
       "      <td>17530</td>\n",
       "    </tr>\n",
       "    <tr>\n",
       "      <th>1</th>\n",
       "      <td>NaN</td>\n",
       "      <td>NO. 44 JALAN DESA MELUR</td>\n",
       "      <td>NaN</td>\n",
       "      <td>NaN</td>\n",
       "      <td>NaN</td>\n",
       "      <td>CHERAS</td>\n",
       "      <td>KUALA LUMPUR</td>\n",
       "      <td>MALAYSIA</td>\n",
       "      <td>56000</td>\n",
       "    </tr>\n",
       "    <tr>\n",
       "      <th>2</th>\n",
       "      <td>9</td>\n",
       "      <td>TEMASEK BOULEVARD</td>\n",
       "      <td>SUNTEC TOWER 2</td>\n",
       "      <td>07</td>\n",
       "      <td>01</td>\n",
       "      <td>NaN</td>\n",
       "      <td>NaN</td>\n",
       "      <td>SINGAPORE</td>\n",
       "      <td>038989</td>\n",
       "    </tr>\n",
       "  </tbody>\n",
       "</table>\n",
       "</div>"
      ],
      "text/plain": [
       "  block                           street        building floor_num unit_num  \\\n",
       "0   NaN  CIKARANG TIMUR JATIREJA NO. 425             NaN       NaN      NaN   \n",
       "1   NaN          NO. 44 JALAN DESA MELUR             NaN       NaN      NaN   \n",
       "2     9                TEMASEK BOULEVARD  SUNTEC TOWER 2        07       01   \n",
       "\n",
       "               city      province    country postcode  \n",
       "0  BEKASI KABUPATEN    JAWA BARAT  INDONESIA    17530  \n",
       "1            CHERAS  KUALA LUMPUR   MALAYSIA    56000  \n",
       "2               NaN           NaN  SINGAPORE   038989  "
      ]
     },
     "execution_count": 59,
     "metadata": {},
     "output_type": "execute_result"
    }
   ],
   "source": [
    "for index, row in test_data.iterrows():\n",
    "    cleaned_address = row['address'].replace(',', '').strip()\n",
    "    identified_country = validate_singapore_address(cleaned_address)\n",
    "    \n",
    "    nlp = loaded_models.get(identified_country, loaded_models['DEFAULT'])\n",
    "\n",
    "    doc = nlp(cleaned_address)\n",
    "\n",
    "    entities = {ent.label_: ent.text for ent in doc.ents}\n",
    "\n",
    "    for component in address_components:\n",
    "        try:\n",
    "            ent = entities.get(component.upper(), '')\n",
    "        except:\n",
    "            ent = np.nan\n",
    "        component_lists[component].append(ent)\n",
    "\n",
    "    print(f\"Iteration: {index+1}/{len(test_data)}\")\n",
    "    print(\"Address string:\", cleaned_address)\n",
    "    print(\"Identified country:\", identified_country)\n",
    "    print(\"Parsed address:\", str(entities))\n",
    "    print(\"--------------------------\")\n",
    "\n",
    "tested_data = pd.DataFrame(component_lists)\n",
    "tested_data = tested_data.replace(r'^\\s*$', np.nan, regex=True)\n",
    "tested_data['postcode'] = tested_data['postal_code'].fillna(tested_data['zipcode'])\n",
    "tested_data = tested_data.drop(['zipcode', 'postal_code'], axis=1)\n",
    "tested_data"
   ]
  },
  {
   "cell_type": "code",
   "execution_count": 60,
   "id": "cefdc291",
   "metadata": {},
   "outputs": [],
   "source": [
    "tested_data.to_csv(\"./test-data/tested_data.csv\")"
   ]
  },
  {
   "cell_type": "code",
   "execution_count": null,
   "id": "43a1a47c",
   "metadata": {},
   "outputs": [],
   "source": []
  },
  {
   "cell_type": "code",
   "execution_count": null,
   "id": "abc6b4d1",
   "metadata": {},
   "outputs": [],
   "source": []
  }
 ],
 "metadata": {
  "kernelspec": {
   "display_name": "Python 3 (ipykernel)",
   "language": "python",
   "name": "python3"
  },
  "language_info": {
   "codemirror_mode": {
    "name": "ipython",
    "version": 3
   },
   "file_extension": ".py",
   "mimetype": "text/x-python",
   "name": "python",
   "nbconvert_exporter": "python",
   "pygments_lexer": "ipython3",
   "version": "3.9.7"
  }
 },
 "nbformat": 4,
 "nbformat_minor": 5
}
